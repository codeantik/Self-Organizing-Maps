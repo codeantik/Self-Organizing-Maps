{
  "nbformat": 4,
  "nbformat_minor": 0,
  "metadata": {
    "colab": {
      "provenance": [],
      "include_colab_link": true
    },
    "kernelspec": {
      "name": "python3",
      "display_name": "Python 3"
    }
  },
  "cells": [
    {
      "cell_type": "markdown",
      "metadata": {
        "id": "view-in-github",
        "colab_type": "text"
      },
      "source": [
        "<a href=\"https://colab.research.google.com/github/codeantik/Self-Organizing-Maps/blob/main/SOM.ipynb\" target=\"_parent\"><img src=\"https://colab.research.google.com/assets/colab-badge.svg\" alt=\"Open In Colab\"/></a>"
      ]
    },
    {
      "cell_type": "markdown",
      "metadata": {
        "id": "t9oX7AL3nyLm"
      },
      "source": [
        "#Self Organizing Map"
      ]
    },
    {
      "cell_type": "markdown",
      "metadata": {
        "id": "r9maNhdd65pB"
      },
      "source": [
        "##Install MiniSom Package"
      ]
    },
    {
      "cell_type": "code",
      "source": [
        "!pip install minisom"
      ],
      "metadata": {
        "colab": {
          "base_uri": "https://localhost:8080/"
        },
        "id": "8UuslR9JMHIx",
        "outputId": "dc50da61-0bb5-4f44-fdd5-48141fc14f71"
      },
      "execution_count": null,
      "outputs": [
        {
          "output_type": "stream",
          "name": "stdout",
          "text": [
            "Looking in indexes: https://pypi.org/simple, https://us-python.pkg.dev/colab-wheels/public/simple/\n",
            "Collecting minisom\n",
            "  Downloading MiniSom-2.3.1.tar.gz (10 kB)\n",
            "  Preparing metadata (setup.py) ... \u001b[?25l\u001b[?25hdone\n",
            "Building wheels for collected packages: minisom\n",
            "  Building wheel for minisom (setup.py) ... \u001b[?25l\u001b[?25hdone\n",
            "  Created wheel for minisom: filename=MiniSom-2.3.1-py3-none-any.whl size=10589 sha256=5d89ef10c8f553086b0477f1d0a935171ce6b1a03a5b7b162b95954a5f6e439a\n",
            "  Stored in directory: /root/.cache/pip/wheels/c7/92/d2/33bbda5f86fd8830510b16aa98c8dd420129b5cb24248fd6db\n",
            "Successfully built minisom\n",
            "Installing collected packages: minisom\n",
            "Successfully installed minisom-2.3.1\n"
          ]
        }
      ]
    },
    {
      "cell_type": "markdown",
      "metadata": {
        "id": "6AX0Y23PnyOI"
      },
      "source": [
        "### Importing the libraries\n"
      ]
    },
    {
      "cell_type": "code",
      "source": [
        "import numpy as np\n",
        "import pandas as pd\n",
        "import matplotlib.pyplot as plt"
      ],
      "metadata": {
        "id": "6DQDIRoyMK7U"
      },
      "execution_count": null,
      "outputs": []
    },
    {
      "cell_type": "markdown",
      "metadata": {
        "id": "SCl7ERn_n539"
      },
      "source": [
        "## Importing the dataset"
      ]
    },
    {
      "cell_type": "code",
      "source": [
        "dataset = pd.read_csv('Credit_Card_Applications.csv')\n",
        "X = dataset.iloc[:, :-1].values\n",
        "y = dataset.iloc[:, -1].values"
      ],
      "metadata": {
        "id": "rwWHJO4WMRLF"
      },
      "execution_count": null,
      "outputs": []
    },
    {
      "cell_type": "markdown",
      "metadata": {
        "id": "fYHJ0dd6n-d4"
      },
      "source": [
        "## Feature Scaling\n"
      ]
    },
    {
      "cell_type": "code",
      "source": [
        "from sklearn.preprocessing import MinMaxScaler\n",
        "sc = MinMaxScaler(feature_range = (0, 1))\n",
        "X = sc.fit_transform(X)"
      ],
      "metadata": {
        "id": "RMJ4ZeGrN2hP"
      },
      "execution_count": null,
      "outputs": []
    },
    {
      "cell_type": "markdown",
      "metadata": {
        "id": "aPp-7wfNoAhR"
      },
      "source": [
        "##Training the SOM\n"
      ]
    },
    {
      "cell_type": "code",
      "source": [
        "from minisom import MiniSom\n",
        "som = MiniSom(x = 10, y = 10, input_len = 15, sigma = 1.0, learning_rate = 0.5)"
      ],
      "metadata": {
        "id": "u1E6kWXcOOAZ"
      },
      "execution_count": null,
      "outputs": []
    },
    {
      "cell_type": "code",
      "source": [
        "som.random_weights_init(X)\n",
        "som.train_random(data = X, num_iteration = 100)"
      ],
      "metadata": {
        "id": "0Z1feAXpPfnC"
      },
      "execution_count": null,
      "outputs": []
    },
    {
      "cell_type": "markdown",
      "source": [
        "## Visualizing the results"
      ],
      "metadata": {
        "id": "alnF2AE8P8Ut"
      }
    },
    {
      "cell_type": "code",
      "source": [
        "from pylab import bone, pcolor, colorbar, plot, show"
      ],
      "metadata": {
        "id": "Vulg4jLCQEF9"
      },
      "execution_count": null,
      "outputs": []
    },
    {
      "cell_type": "code",
      "source": [
        "bone()\n",
        "pcolor(som.distance_map().T)\n",
        "colorbar()\n",
        "markers = ['o', 's']\n",
        "colors = ['r', 'g']\n",
        "for i, x in enumerate(X):\n",
        "  w = som.winner(x)\n",
        "  plot(w[0] + 0.5, \n",
        "       w[1] + 0.5,\n",
        "       markers[y[i]], \n",
        "       markeredgecolor = colors[y[i]],\n",
        "       markerfacecolor = 'None',\n",
        "       markersize = 10,\n",
        "       markeredgewidth = 2)\n",
        "show()"
      ],
      "metadata": {
        "colab": {
          "base_uri": "https://localhost:8080/",
          "height": 435
        },
        "id": "coW8P7piQPq4",
        "outputId": "63c3e81d-2e87-4370-8741-4f1b6d5c97d8"
      },
      "execution_count": null,
      "outputs": [
        {
          "output_type": "display_data",
          "data": {
            "text/plain": [
              "<Figure size 640x480 with 2 Axes>"
            ],
            "image/png": "[encoded data removed]"
          },
          "metadata": {}
        }
      ]
    },
    {
      "cell_type": "markdown",
      "metadata": {
        "id": "4C-I_jBfoEkP"
      },
      "source": [
        "## Finding the frauds\n"
      ]
    },
    {
      "cell_type": "code",
      "source": [
        "mappings = som.win_map(X)\n",
        "frauds = np.concatenate((mappings[(4, 2)], mappings[(6, 4)], mappings[(3, 8)], mappings[(4, 8)], mappings[(4, 9)]), axis = 0)"
      ],
      "metadata": {
        "id": "lGwV9mgzThco"
      },
      "execution_count": null,
      "outputs": []
    },
    {
      "cell_type": "markdown",
      "metadata": {
        "id": "frXqAlpo84b1"
      },
      "source": [
        "##Printing the Fraunch Clients"
      ]
    },
    {
      "cell_type": "code",
      "source": [
        "frauds = sc.inverse_transform(frauds)\n",
        "print(frauds)"
      ],
      "metadata": {
        "colab": {
          "base_uri": "https://localhost:8080/"
        },
        "id": "l4-XnkekVt5t",
        "outputId": "bed18c6c-50b1-4240-f6d0-992cbad4b961"
      },
      "execution_count": null,
      "outputs": [
        {
          "output_type": "stream",
          "name": "stdout",
          "text": [
            "[[1.5599440e+07 1.0000000e+00 5.8580000e+01 2.7100000e+00 2.0000000e+00\n",
            "  8.0000000e+00 4.0000000e+00 2.4150000e+00 0.0000000e+00 0.0000000e+00\n",
            "  0.0000000e+00 1.0000000e+00 2.0000000e+00 3.2000000e+02 1.0000000e+00]\n",
            " [1.5591010e+07 1.0000000e+00 4.7830000e+01 4.1650000e+00 2.0000000e+00\n",
            "  1.4000000e+01 5.0000000e+00 8.5000000e-02 0.0000000e+00 0.0000000e+00\n",
            "  0.0000000e+00 1.0000000e+00 2.0000000e+00 5.2000000e+02 1.0000000e+00]\n",
            " [1.5620832e+07 1.0000000e+00 3.7330000e+01 2.6650000e+00 2.0000000e+00\n",
            "  1.3000000e+01 4.0000000e+00 1.6500000e-01 0.0000000e+00 0.0000000e+00\n",
            "  0.0000000e+00 1.0000000e+00 2.0000000e+00 0.0000000e+00 5.0200000e+02]\n",
            " [1.5580914e+07 1.0000000e+00 5.2330000e+01 1.3750000e+00 1.0000000e+00\n",
            "  8.0000000e+00 8.0000000e+00 9.4600000e+00 1.0000000e+00 0.0000000e+00\n",
            "  0.0000000e+00 1.0000000e+00 2.0000000e+00 2.0000000e+02 1.0100000e+02]\n",
            " [1.5607986e+07 1.0000000e+00 4.0920000e+01 2.2500000e+00 1.0000000e+00\n",
            "  1.4000000e+01 8.0000000e+00 1.0000000e+01 1.0000000e+00 0.0000000e+00\n",
            "  0.0000000e+00 1.0000000e+00 2.0000000e+00 1.7600000e+02 1.0000000e+00]\n",
            " [1.5569682e+07 1.0000000e+00 5.9670000e+01 1.5400000e+00 2.0000000e+00\n",
            "  1.1000000e+01 4.0000000e+00 1.2500000e-01 1.0000000e+00 0.0000000e+00\n",
            "  0.0000000e+00 1.0000000e+00 2.0000000e+00 2.6000000e+02 1.0000000e+00]\n",
            " [1.5591107e+07 1.0000000e+00 3.2000000e+01 1.7500000e+00 1.0000000e+00\n",
            "  1.0000000e+01 8.0000000e+00 4.0000000e-02 1.0000000e+00 0.0000000e+00\n",
            "  0.0000000e+00 1.0000000e+00 2.0000000e+00 3.9300000e+02 1.0000000e+00]\n",
            " [1.5636767e+07 1.0000000e+00 2.3420000e+01 1.0000000e+00 2.0000000e+00\n",
            "  8.0000000e+00 4.0000000e+00 5.0000000e-01 0.0000000e+00 0.0000000e+00\n",
            "  0.0000000e+00 1.0000000e+00 1.0000000e+00 2.8000000e+02 1.0000000e+00]\n",
            " [1.5603683e+07 1.0000000e+00 2.0670000e+01 8.3500000e-01 1.0000000e+00\n",
            "  8.0000000e+00 4.0000000e+00 2.0000000e+00 0.0000000e+00 0.0000000e+00\n",
            "  0.0000000e+00 1.0000000e+00 1.0000000e+00 2.4000000e+02 1.0000000e+00]\n",
            " [1.5659100e+07 1.0000000e+00 1.9170000e+01 0.0000000e+00 1.0000000e+00\n",
            "  7.0000000e+00 5.0000000e+00 0.0000000e+00 0.0000000e+00 0.0000000e+00\n",
            "  0.0000000e+00 1.0000000e+00 1.0000000e+00 5.0000000e+02 2.0000000e+00]\n",
            " [1.5648681e+07 1.0000000e+00 2.3000000e+01 7.5000000e-01 2.0000000e+00\n",
            "  7.0000000e+00 4.0000000e+00 5.0000000e-01 0.0000000e+00 0.0000000e+00\n",
            "  0.0000000e+00 1.0000000e+00 1.0000000e+00 3.2000000e+02 1.0000000e+00]\n",
            " [1.5672432e+07 1.0000000e+00 2.7000000e+01 7.5000000e-01 2.0000000e+00\n",
            "  8.0000000e+00 8.0000000e+00 4.2500000e+00 1.0000000e+00 1.0000000e+00\n",
            "  3.0000000e+00 1.0000000e+00 2.0000000e+00 3.1200000e+02 1.5100000e+02]\n",
            " [1.5663194e+07 1.0000000e+00 2.8000000e+01 2.0000000e+00 2.0000000e+00\n",
            "  4.0000000e+00 8.0000000e+00 4.1650000e+00 1.0000000e+00 1.0000000e+00\n",
            "  2.0000000e+00 1.0000000e+00 2.0000000e+00 1.8100000e+02 1.0000000e+00]\n",
            " [1.5671534e+07 1.0000000e+00 3.2670000e+01 5.5000000e+00 2.0000000e+00\n",
            "  1.1000000e+01 8.0000000e+00 5.5000000e+00 1.0000000e+00 1.0000000e+00\n",
            "  1.2000000e+01 1.0000000e+00 2.0000000e+00 4.0800000e+02 1.0010000e+03]\n",
            " [1.5585892e+07 1.0000000e+00 4.1420000e+01 5.0000000e+00 2.0000000e+00\n",
            "  1.1000000e+01 8.0000000e+00 5.0000000e+00 1.0000000e+00 1.0000000e+00\n",
            "  6.0000000e+00 1.0000000e+00 2.0000000e+00 4.7000000e+02 1.0000000e+00]\n",
            " [1.5583680e+07 1.0000000e+00 2.3080000e+01 1.1500000e+01 2.0000000e+00\n",
            "  9.0000000e+00 8.0000000e+00 2.1250000e+00 1.0000000e+00 1.0000000e+00\n",
            "  1.1000000e+01 1.0000000e+00 2.0000000e+00 2.9000000e+02 2.8500000e+02]\n",
            " [1.5566495e+07 1.0000000e+00 4.5000000e+01 8.5000000e+00 2.0000000e+00\n",
            "  1.3000000e+01 8.0000000e+00 1.4000000e+01 1.0000000e+00 1.0000000e+00\n",
            "  1.0000000e+00 1.0000000e+00 2.0000000e+00 8.8000000e+01 2.0010000e+03]\n",
            " [1.5613699e+07 1.0000000e+00 3.7330000e+01 6.5000000e+00 2.0000000e+00\n",
            "  7.0000000e+00 8.0000000e+00 4.2500000e+00 1.0000000e+00 1.0000000e+00\n",
            "  1.2000000e+01 1.0000000e+00 2.0000000e+00 9.3000000e+01 1.0000000e+00]\n",
            " [1.5667460e+07 1.0000000e+00 3.5170000e+01 2.5125000e+01 2.0000000e+00\n",
            "  1.4000000e+01 8.0000000e+00 1.6250000e+00 1.0000000e+00 1.0000000e+00\n",
            "  1.0000000e+00 1.0000000e+00 2.0000000e+00 5.1500000e+02 5.0100000e+02]\n",
            " [1.5569394e+07 1.0000000e+00 5.4330000e+01 6.7500000e+00 2.0000000e+00\n",
            "  8.0000000e+00 8.0000000e+00 2.6250000e+00 1.0000000e+00 1.0000000e+00\n",
            "  1.1000000e+01 1.0000000e+00 2.0000000e+00 0.0000000e+00 2.8500000e+02]]\n"
          ]
        }
      ]
    }
  ]
}